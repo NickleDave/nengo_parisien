{
 "cells": [
  {
   "cell_type": "code",
   "execution_count": 1,
   "metadata": {
    "collapsed": true
   },
   "outputs": [],
   "source": [
    "%matplotlib inline\n",
    "import pylab\n",
    "import nengo\n",
    "import numpy as np"
   ]
  },
  {
   "cell_type": "code",
   "execution_count": 94,
   "metadata": {
    "collapsed": false
   },
   "outputs": [],
   "source": [
    "model = nengo.Network()\n",
    "with model:\n",
    "    stim = nengo.Node(lambda t: np.sin(t*np.pi*2))\n",
    "    a = nengo.Ensemble(100, 1, seed=2)\n",
    "    b = nengo.Ensemble(101, 1, seed=3)\n",
    "    \n",
    "    nengo.Connection(stim, a)\n",
    "    conn = nengo.Connection(a, b, function=lambda x: x**2)\n",
    "    \n",
    "    p = nengo.Probe(b, synapse=0.03)\n",
    "    p_stim = nengo.Probe(stim, synapse=0.03)\n",
    "\n",
    "    \n",
    "def parisien_transform(conn, proportion=0.25):\n",
    "    assert isinstance(conn.pre_obj, nengo.Ensemble)\n",
    "    assert isinstance(conn.post_obj, nengo.Ensemble)    \n",
    "    \n",
    "    if conn.pre_obj.seed is None:\n",
    "        conn.pre_obj.seed = np.random.randint(0x7FFFFFFF)\n",
    "    if conn.post_obj.seed is None:\n",
    "        conn.post_obj.seed = np.random.randint(0x7FFFFFFF)\n",
    "        \n",
    "    model2 = nengo.Network(add_to_container=False)\n",
    "    model2.ensembles.append(conn.pre_obj)\n",
    "    model2.ensembles.append(conn.post_obj)\n",
    "    model2.connections.append(conn)\n",
    "    sim = nengo.Simulator(model2)\n",
    "    enc = sim.data[conn.post_obj].encoders\n",
    "    dec = sim.data[conn].weights\n",
    "    \n",
    "    w = np.dot(enc, dec)   #TODO this needs to include transform and slice information\n",
    "    \n",
    "    pts, act = nengo.utils.ensemble.tuning_curves(conn.pre_obj, sim)\n",
    "    total = np.sum(act, axis=1)\n",
    "    \n",
    "    bias_d = np.ones(conn.pre_obj.n_neurons) / np.max(total)\n",
    "    \n",
    "    bias_func = total / np.max(total)\n",
    "    \n",
    "    bias_e = np.max(-w / bias_d, axis=1)\n",
    "    \n",
    "    bias_w = np.outer(bias_e, bias_d)\n",
    "    \n",
    "    \n",
    "    nengo.Connection(conn.pre_obj.neurons, conn.post_obj.neurons,\n",
    "                     transform=bias_w,\n",
    "                     synapse=conn.synapse)\n",
    "    \n",
    "    inh = nengo.Ensemble(n_neurons = int(conn.pre_obj.n_neurons*proportion),\n",
    "                         dimensions = 1,\n",
    "                         encoders = nengo.dists.Choice([[1]]))\n",
    "    \n",
    "    nengo.Connection(conn.pre_obj, inh, \n",
    "                     solver=nengo.solvers.NnlsL2(),\n",
    "                     transform=1,\n",
    "                     **nengo.utils.connection.target_function(pts, bias_func))\n",
    "    \n",
    "    nengo.Connection(inh, conn.post_obj.neurons, solver=nengo.solvers.NnlsL2(), transform=-bias_e[:,None])\n",
    "    \n",
    "        \n",
    "\n",
    "with model:        \n",
    "    parisien_transform(conn) \n",
    "    #model.connections.remove(conn)\n",
    "    \n"
   ]
  },
  {
   "cell_type": "code",
   "execution_count": 95,
   "metadata": {
    "collapsed": false
   },
   "outputs": [
    {
     "name": "stdout",
     "output_type": "stream",
     "text": [
      "Simulation finished in 0:00:03.                                                 \n"
     ]
    }
   ],
   "source": [
    "sim = nengo.Simulator(model)\n",
    "sim.run(2)"
   ]
  },
  {
   "cell_type": "code",
   "execution_count": 96,
   "metadata": {
    "collapsed": false
   },
   "outputs": [
    {
     "data": {
      "image/png": "[encoded data removed]",
      "text/plain": [
       "<matplotlib.figure.Figure at 0x7ff938a32e10>"
      ]
     },
     "metadata": {},
     "output_type": "display_data"
    }
   ],
   "source": [
    "pylab.plot(sim.trange(), sim.data[p_stim])\n",
    "pylab.plot(sim.trange(), sim.data[p])\n",
    "pylab.show()"
   ]
  },
  {
   "cell_type": "code",
   "execution_count": null,
   "metadata": {
    "collapsed": true
   },
   "outputs": [],
   "source": []
  }
 ],
 "metadata": {
  "kernelspec": {
   "display_name": "Python 2",
   "language": "python",
   "name": "python2"
  },
  "language_info": {
   "codemirror_mode": {
    "name": "ipython",
    "version": 2
   },
   "file_extension": ".py",
   "mimetype": "text/x-python",
   "name": "python",
   "nbconvert_exporter": "python",
   "pygments_lexer": "ipython2",
   "version": "2.7.6"
  }
 },
 "nbformat": 4,
 "nbformat_minor": 0
}
