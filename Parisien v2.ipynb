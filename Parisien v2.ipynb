{
 "cells": [
  {
   "cell_type": "code",
   "execution_count": 1,
   "metadata": {
    "collapsed": true
   },
   "outputs": [],
   "source": [
    "%matplotlib inline\n",
    "import pylab\n",
    "import nengo\n",
    "import numpy as np"
   ]
  },
  {
   "cell_type": "code",
   "execution_count": 3,
   "metadata": {},
   "outputs": [
    {
     "name": "stdout",
     "output_type": "stream",
     "text": [
      "Building finished in 0:00:01.                                                   \n",
      "(1000L, 2L)\n",
      "-2.71050543121e-20\n",
      "0.000404459868232\n"
     ]
    }
   ],
   "source": [
    "model = nengo.Network()\n",
    "with model:\n",
    "    stim = nengo.Node(lambda t: (np.sin(t*np.pi*2),0))\n",
    "    a = nengo.Ensemble(100, 2, seed=2)\n",
    "    b = nengo.Ensemble(101, 2, seed=3)\n",
    "    \n",
    "    nengo.Connection(stim, a)\n",
    "    conn = nengo.Connection(a, b)\n",
    "    \n",
    "    p = nengo.Probe(b, synapse=0.03)\n",
    "    p_stim = nengo.Probe(stim, synapse=0.03)\n",
    "\n",
    "    \n",
    "def parisien_transform(conn, model, inh_synapse, inh_proportion=0.25):\n",
    "    # only works for ens->ens connections\n",
    "    assert isinstance(conn.pre_obj, nengo.Ensemble)\n",
    "    assert isinstance(conn.post_obj, nengo.Ensemble)    \n",
    "    \n",
    "    # make sure the pre and post ensembles have seeds so we can guarantee their params\n",
    "    if conn.pre_obj.seed is None:\n",
    "        conn.pre_obj.seed = np.random.randint(0x7FFFFFFF)\n",
    "    if conn.post_obj.seed is None:\n",
    "        conn.post_obj.seed = np.random.randint(0x7FFFFFFF)\n",
    "        \n",
    "    # compute the encoders, decoders, and tuning curves\n",
    "    model2 = nengo.Network(add_to_container=False)\n",
    "    model2.ensembles.append(conn.pre_obj)\n",
    "    model2.ensembles.append(conn.post_obj)\n",
    "    model2.connections.append(conn)\n",
    "    sim = nengo.Simulator(model2)\n",
    "    enc = sim.data[conn.post_obj].encoders\n",
    "    dec = sim.data[conn].weights\n",
    "    eval_points = sim.data[conn].eval_points\n",
    "    pts, act = nengo.utils.ensemble.tuning_curves(conn.pre_obj, sim, inputs=eval_points)\n",
    "    print pts.shape\n",
    "    \n",
    "    # compute the original weights\n",
    "    transform = nengo.utils.builder.full_transform(conn)\n",
    "    w = np.dot(enc, np.dot(transform, dec))\n",
    "    \n",
    "    # compute the bias function, bias encoders, bias decoders, and bias weights\n",
    "    total = np.sum(act, axis=1)    \n",
    "    bias_d = np.ones(conn.pre_obj.n_neurons) / np.max(total)    \n",
    "    bias_func = total / np.max(total)    \n",
    "    bias_e = np.max(-w / bias_d, axis=1)\n",
    "    bias_w = np.outer(bias_e, bias_d)\n",
    "    \n",
    "    print np.min(w + bias_w)\n",
    "    print np.max(w + bias_w)\n",
    "    \n",
    "    # add the new model compontents\n",
    "    with model:\n",
    "        nengo.Connection(conn.pre_obj.neurons, conn.post_obj.neurons,\n",
    "                         transform=bias_w,\n",
    "                         synapse=conn.synapse)\n",
    "\n",
    "        inh = nengo.Ensemble(n_neurons = int(conn.pre_obj.n_neurons*inh_proportion),\n",
    "                             dimensions = 1,\n",
    "                             encoders = nengo.dists.Choice([[1]]),\n",
    "                             intercepts= nengo.dists.Uniform(0, 1))\n",
    "\n",
    "        nengo.Connection(conn.pre_obj, inh, \n",
    "                         solver=nengo.solvers.NnlsL2(),\n",
    "                         transform=1,\n",
    "                         synapse=conn.synapse,\n",
    "                         **nengo.utils.connection.target_function(pts, bias_func))\n",
    "\n",
    "        nengo.Connection(inh, conn.post_obj.neurons,\n",
    "                         solver=nengo.solvers.NnlsL2(),\n",
    "                         synapse=inh_synapse,\n",
    "                         transform=-bias_e[:,None])\n",
    "    \n",
    "        \n",
    "\n",
    "parisien_transform(conn, model, inh_synapse=conn.synapse) \n",
    "    \n"
   ]
  },
  {
   "cell_type": "code",
   "execution_count": 4,
   "metadata": {},
   "outputs": [
    {
     "name": "stdout",
     "output_type": "stream",
     "text": [
      "Building finished in 0:00:01.                                                   \n",
      "Simulating finished in 0:00:01.                                                 \n"
     ]
    }
   ],
   "source": [
    "sim = nengo.Simulator(model)\n",
    "sim.run(2)"
   ]
  },
  {
   "cell_type": "code",
   "execution_count": 5,
   "metadata": {},
   "outputs": [
    {
     "data": {
      "image/png": "[encoded data removed]",
      "text/plain": [
       "<matplotlib.figure.Figure at 0xc7d4550>"
      ]
     },
     "metadata": {},
     "output_type": "display_data"
    }
   ],
   "source": [
    "pylab.plot(sim.trange(), sim.data[p_stim])\n",
    "pylab.plot(sim.trange(), sim.data[p])\n",
    "pylab.show()"
   ]
  },
  {
   "cell_type": "code",
   "execution_count": null,
   "metadata": {
    "collapsed": true
   },
   "outputs": [],
   "source": []
  }
 ],
 "metadata": {
  "kernelspec": {
   "display_name": "Python 2",
   "language": "python",
   "name": "python2"
  },
  "language_info": {
   "codemirror_mode": {
    "name": "ipython",
    "version": 2
   },
   "file_extension": ".py",
   "mimetype": "text/x-python",
   "name": "python",
   "nbconvert_exporter": "python",
   "pygments_lexer": "ipython2",
   "version": "2.7.13"
  }
 },
 "nbformat": 4,
 "nbformat_minor": 1
}
